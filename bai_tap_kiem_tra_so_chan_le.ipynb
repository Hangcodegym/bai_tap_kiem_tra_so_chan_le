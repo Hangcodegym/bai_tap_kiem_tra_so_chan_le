{
 "cells": [
  {
   "cell_type": "code",
   "execution_count": null,
   "id": "e481cade",
   "metadata": {},
   "outputs": [],
   "source": [
    "a=float(input('nhập vào một số bất kỳ: '))\n",
    "if a%2==0:\n",
    "    print(f'số {a} là số chẵn')\n",
    "elif a%2!=0:\n",
    "    print(f'số {a} là số lẻ')\n",
    "else:\n",
    "    print (f'số {a} không phải là số tự nhiên')"
   ]
  }
 ],
 "metadata": {
  "kernelspec": {
   "display_name": "Python 3 (ipykernel)",
   "language": "python",
   "name": "python3"
  },
  "language_info": {
   "codemirror_mode": {
    "name": "ipython",
    "version": 3
   },
   "file_extension": ".py",
   "mimetype": "text/x-python",
   "name": "python",
   "nbconvert_exporter": "python",
   "pygments_lexer": "ipython3",
   "version": "3.9.12"
  }
 },
 "nbformat": 4,
 "nbformat_minor": 5
}
